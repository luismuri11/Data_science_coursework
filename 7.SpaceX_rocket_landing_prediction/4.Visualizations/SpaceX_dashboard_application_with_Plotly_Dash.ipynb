{
 "cells": [
  {
   "cell_type": "markdown",
   "id": "c1810983-fcfe-49b7-bbe6-f7eb8afaf90a",
   "metadata": {},
   "source": [
    "## Part 4. Dashboard Application using Plotly Dash"
   ]
  },
  {
   "cell_type": "code",
   "execution_count": 1,
   "id": "2bc3ed37-fd0a-4d46-97ab-87e64ca48bc2",
   "metadata": {},
   "outputs": [
    {
     "data": {
      "text/html": [
       "\n",
       "        <iframe\n",
       "            width=\"100%\"\n",
       "            height=\"650\"\n",
       "            src=\"http://127.0.0.1:8050/\"\n",
       "            frameborder=\"0\"\n",
       "            allowfullscreen\n",
       "            \n",
       "        ></iframe>\n",
       "        "
      ],
      "text/plain": [
       "<IPython.lib.display.IFrame at 0x7f0c3f989c30>"
      ]
     },
     "metadata": {},
     "output_type": "display_data"
    }
   ],
   "source": [
    "# Import required libraries\n",
    "import pandas as pd\n",
    "from dash import Dash, html,dcc,callback\n",
    "from dash.dependencies import Input, Output\n",
    "import plotly.express as px\n",
    "\n",
    "# Read the airline data into pandas dataframe\n",
    "spacex_df = pd.read_csv(\"spacex_launch_dash.csv\")\n",
    "max_payload = spacex_df['Payload Mass (kg)'].max()\n",
    "min_payload = spacex_df['Payload Mass (kg)'].min()\n",
    "\n",
    "# Create a dash application\n",
    "app = Dash(__name__)\n",
    "\n",
    "# Create an app layout\n",
    "app.layout = html.Div(children=[html.H1('SpaceX Launch Records Dashboard',\n",
    "                                        style={'textAlign': 'center', 'color': '#503D36',\n",
    "                                               'font-size': 40}),\n",
    "                                # TASK 1: Add a dropdown list to enable Launch Site selection\n",
    "                                # The default select value is for ALL sites\n",
    "                                dcc.Dropdown(id='site-dropdown',  options=[{'label': 'All Sites', 'value': 'ALL'},\n",
    "                                                                           {'label': 'CCAFS LC-40', 'value': 'CCAFS LC-40'},\n",
    "                                                                           {'label':'CCAFS SLC-40', 'value':'CCAFS SLC-40'},\n",
    "                                                                           {'label': 'KSC LC-39A', 'value': 'KSC LC-39A'},\n",
    "                                                                           {'label':'VAFB SLC-4E', 'value':'VAFB SLC-4E'}],\n",
    "                                                                  value='ALL', placeholder=\"Select a Launch Site here\",\n",
    "                                                                  searchable=True),\n",
    "                                html.Br(),\n",
    "\n",
    "                                # TASK 2: Add a pie chart to show the total successful launches count for all sites\n",
    "                                # If a specific launch site was selected, show the Success vs. Failed counts for the site\n",
    "                                html.Div(dcc.Graph(id='success-pie-chart')),\n",
    "                                html.Br(),\n",
    "\n",
    "                                html.P(\"Payload range (Kg):\"),\n",
    "                                # TASK 3: Add a slider to select payload range\n",
    "                                dcc.RangeSlider(id='payload-slider',\n",
    "                                                min = 0,\n",
    "                                                max = 10000,\n",
    "                                                step = 1000,\n",
    "                                                value = [min_payload,max_payload]\n",
    "                                               ),\n",
    "\n",
    "                                # TASK 4: Add a scatter chart to show the correlation between payload and launch success\n",
    "                                html.Div(dcc.Graph(id='success-payload-scatter-chart')),\n",
    "                                ])\n",
    "\n",
    "# TASK 2:\n",
    "# Add a callback function for `site-dropdown` as input, `success-pie-chart` as output\n",
    "@app.callback(Output(component_id='success-pie-chart', component_property='figure'),\n",
    "              Input(component_id='site-dropdown',component_property='value'))\n",
    "def get_pie_chart(value):\n",
    "    filtered_df = spacex_df.groupby('Launch Site',as_index=False).sum()\n",
    "    if value == 'ALL':\n",
    "        fig = px.pie(filtered_df, values='class', \n",
    "        names='Launch Site', \n",
    "        title='Total Success Launches by Site')\n",
    "        return fig\n",
    "    else:\n",
    "        df_1= spacex_df[spacex_df['Launch Site']==value]\n",
    "        count_df = df_1['class'].value_counts().reset_index()\n",
    "        count_df.columns = ['Value','Count']\n",
    "        # Create a pie chart using Plotly Express\n",
    "        fig = px.pie(count_df, values='Count', names='Value', title='Total Success Launches for site {}'.format(value))\n",
    "        # return the outcomes piechart for a selected site\n",
    "        return fig\n",
    "\n",
    "# TASK 4:\n",
    "# Add a callback function for `site-dropdown` and `payload-slider` as inputs, `success-payload-scatter-chart` as output\n",
    "@app.callback(Output(component_id = 'success-payload-scatter-chart', component_property='figure'),\n",
    "              [Input(component_id='site-dropdown',component_property='value'),\n",
    "               Input(component_id = \"payload-slider\", component_property=\"value\")])\n",
    "\n",
    "def get_scatter_chart(dropdown_value,slider_range):\n",
    "    low,high = slider_range\n",
    "    data = spacex_df[['Launch Site','Payload Mass (kg)','class','Booster Version Category']]\n",
    "    data_slider = data[(data['Payload Mass (kg)']>low) & (data['Payload Mass (kg)']<high)]\n",
    "    \n",
    "    if dropdown_value == 'ALL':\n",
    "        fig = px.scatter(data_slider,x='Payload Mass (kg)', y='class',color= 'Booster Version Category',\n",
    "                         title='Correlation between Payload and Success for all sites')\n",
    "        return fig\n",
    "    else:\n",
    "        data_selected = data_slider[data_slider['Launch Site']==dropdown_value]\n",
    "        fig = px.scatter(data_selected, x='Payload Mass (kg)', y='class',color='Booster Version Category',\n",
    "                        title='Correlation between Payload and Success for {}'.format(dropdown_value))\n",
    "        return fig\n",
    "# Run the app\n",
    "if __name__ == '__main__':\n",
    "    app.run_server()\n"
   ]
  },
  {
   "cell_type": "code",
   "execution_count": null,
   "id": "949e05ea-dfe0-489d-aea3-a2a77c8cc871",
   "metadata": {},
   "outputs": [],
   "source": []
  }
 ],
 "metadata": {
  "kernelspec": {
   "display_name": "Python 3 (ipykernel)",
   "language": "python",
   "name": "python3"
  },
  "language_info": {
   "codemirror_mode": {
    "name": "ipython",
    "version": 3
   },
   "file_extension": ".py",
   "mimetype": "text/x-python",
   "name": "python",
   "nbconvert_exporter": "python",
   "pygments_lexer": "ipython3",
   "version": "3.10.9"
  }
 },
 "nbformat": 4,
 "nbformat_minor": 5
}
